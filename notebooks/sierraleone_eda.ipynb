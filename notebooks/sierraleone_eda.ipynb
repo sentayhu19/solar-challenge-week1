{
 "cells": [
  {
   "cell_type": "markdown",
   "metadata": {},
   "source": [
    "# Sierra Leone Solar Data: Exploratory Data Analysis\n",
    "\n",
    "This notebook performs exploratory data analysis on the Sierra Leone solar dataset to better understand the data quality, patterns, and relationships between variables.\n",
    "\n",
    "**Objectives:**\n",
    "- Profile the data and identify missing values\n",
    "- Clean the data by handling outliers and missing values\n",
    "- Perform time series analysis on key solar variables\n",
    "- Analyze relationships between variables\n",
    "- Explore environmental factors affecting solar radiation"
   ]
  },
  {
   "cell_type": "code",
   "execution_count": null,
   "metadata": {},
   "outputs": [],
   "source": [
    "import pandas as pd\n",
    "import numpy as np\n",
    "import matplotlib.pyplot as plt\n",
    "import seaborn as sns\n",
    "from pathlib import Path\n",
    "import warnings\n",
    "warnings.filterwarnings('ignore')\n",
    "from scipy import stats\n",
    "import matplotlib.dates as mdates\n",
    "from matplotlib.colors import Normalize\n",
    "from matplotlib.cm import ScalarMappable\n",
    "import os\n",
    "\n",
    "# Set plotting style\n",
    "plt.style.use('ggplot')\n",
    "sns.set(font_scale=1.2)\n",
    "sns.set_style('whitegrid')\n",
    "\n",
    "# Import custom utility functions\n",
    "import sys\n",
    "sys.path.append('..')\n",
    "from src.utils.utils import (load_data, missing_values_report, detect_outliers, \n",
    "                            clean_data, plot_time_series, plot_correlation_heatmap, \n",
    "                            plot_scatter, plot_bubble_chart, plot_histogram, save_dataframe)\n",
    "\n",
    "# Create data directory if it doesn't exist\n",
    "Path('../data').mkdir(exist_ok=True)"
   ]
  },
  {
   "cell_type": "markdown",
   "metadata": {},
   "source": [
    "## 1. Data Loading and Initial Inspection"
   ]
  },
  {
   "cell_type": "code",
   "execution_count": null,
   "metadata": {},
   "outputs": [],
   "source": [
    "file_path = '../data/sierraleone-bumbuna.csv'\n",
    "df = pd.read_csv(file_path)\n",
    "\n",
    "# Convert Timestamp to datetime\n",
    "df['Timestamp'] = pd.to_datetime(df['Timestamp'])\n",
    "\n",
    "# Display basic information\n",
    "print(f\"Dataset shape: {df.shape}\")\n",
    "print(f\"Date range: {df['Timestamp'].min()} to {df['Timestamp'].max()}\")\n",
    "df.head()\n",
    "\n",
    "# Check data types\n",
    "df.info()"
   ]
  },
  {
   "cell_type": "code",
   "execution_count": null,
   "metadata": {},
   "outputs": [],
   "source": [
    "numeric_stats = df.describe()\n",
    "print(\"Summary Statistics for Numeric Columns:\")\n",
    "print(numeric_stats)\n",
    "\n",
    "# Generate missing values report\n",
    "missing_report = missing_values_report(df)\n",
    "print(\"\\nMissing Values Report (columns with >5% nulls):\")\n",
    "print(missing_report)\n",
    "\n",
    "# Create a bar chart of missing values percentage\n",
    "missing_percentages = df.isna().mean() * 100\n",
    "missing_percentages = missing_percentages[missing_percentages > 0].sort_values(ascending=False)\n",
    "\n",
    "if len(missing_percentages) > 0:\n",
    "    plt.figure(figsize=(12, 6))\n",
    "    missing_percentages.plot(kind='bar')\n",
    "    plt.axhline(y=5, color='r', linestyle='--', label='5% threshold')\n",
    "    plt.title('Percentage of Missing Values by Column')\n",
    "    plt.ylabel('Missing Values (%)')\n",
    "    plt.xlabel('Columns')\n",
    "    plt.grid(axis='y')\n",
    "    plt.legend()\n",
    "    plt.tight_layout()\n",
    "    plt.show()"
   ]
  },
  {
   "cell_type": "markdown",
   "metadata": {},
   "source": [
    "## 2. Outlier Detection and Data Cleaning"
   ]
  },
  {
   "cell_type": "code",
   "execution_count": null,
   "metadata": {},
   "outputs": [],
   "source": [
    "key_columns = ['GHI', 'DNI', 'DHI', 'ModA', 'ModB', 'WS', 'WSgust']\n",
    "\n",
    "# Detect outliers using Z-score method\n",
    "outliers = detect_outliers(df, key_columns, z_threshold=3)\n",
    "\n",
    "# Count outliers per column\n",
    "outlier_counts = outliers.sum()\n",
    "outlier_percentages = outlier_counts / len(df) * 100\n",
    "print(\"Outlier Summary:\")\n",
    "for col in outliers.columns:\n",
    "    print(f\"{col}: {outlier_counts[col]} outliers ({outlier_percentages[col]:.2f}%)\")\n",
    "\n",
    "# Combine outliers into a single flag per row\n",
    "df['has_outlier'] = outliers.any(axis=1)\n",
    "print(f\"\\nTotal rows with at least one outlier: {df['has_outlier'].sum()} ({df['has_outlier'].mean()*100:.2f}%)\")"
   ]
  },
  {
   "cell_type": "code",
   "execution_count": null,
   "metadata": {},
   "outputs": [],
   "source": [
    "# Clean data by handling missing values and outliers\n",
    "columns_to_clean = key_columns + ['Tamb', 'RH', 'WD', 'BP']\n",
    "\n",
    "def clean_outliers(df, columns):\n",
    "    df_clean = df.copy()\n",
    "    \n",
    "    for col in columns:\n",
    "        if col not in df.columns:\n",
    "            continue\n",
    "            \n",
    "        # Calculate z-scores\n",
    "        z_series = np.abs(stats.zscore(df_clean[col].dropna()))\n",
    "        z_series = pd.Series(z_series, index=df_clean[col].dropna().index)\n",
    "        \n",
    "        # Get indices where z_score > 3\n",
    "        outlier_indices = z_series[z_series > 3].index\n",
    "        \n",
    "        # Replace outliers with NaN\n",
    "        df_clean.loc[outlier_indices, col] = np.nan\n",
    "    \n",
    "    return df_clean"
   ]
  },
  {
   "cell_type": "code",
   "execution_count": null,
   "metadata": {},
   "outputs": [],
   "source": [
    "# First replace outliers with NaN\n",
    "df_clean = clean_outliers(df, columns_to_clean)\n",
    "\n",
    "# Then impute missing values with median\n",
    "df_clean = clean_data(df_clean, columns_to_clean, strategy='median')\n",
    "\n",
    "# Check remaining missing values after cleaning\n",
    "print(\"Missing values after cleaning:\")\n",
    "print(df_clean[columns_to_clean].isna().sum())\n",
    "\n",
    "# Save cleaned DataFrame to CSV\n",
    "clean_data_path = '../data/sierraleone_clean.csv'\n",
    "save_dataframe(df_clean, clean_data_path)"
   ]
  },
  {
   "cell_type": "markdown",
   "metadata": {},
   "source": [
    "## 3. Time Series Analysis"
   ]
  },
  {
   "cell_type": "code",
   "execution_count": null,
   "metadata": {},
   "outputs": [],
   "source": [
    "daily_data = df_clean.set_index('Timestamp').resample('D').mean().reset_index()\n",
    "\n",
    "# Plot GHI, DNI, DHI, Tamb over time\n",
    "plt.figure(figsize=(15, 12))\n",
    "\n",
    "# Solar Radiation Variables\n",
    "plt.subplot(3, 1, 1)\n",
    "plt.plot(daily_data['Timestamp'], daily_data['GHI'], label='GHI')\n",
    "plt.plot(daily_data['Timestamp'], daily_data['DNI'], label='DNI')\n",
    "plt.plot(daily_data['Timestamp'], daily_data['DHI'], label='DHI')\n",
    "plt.title('Daily Average Solar Radiation')\n",
    "plt.ylabel('Radiation (W/m²)')\n",
    "plt.grid(True)\n",
    "plt.legend()\n",
    "\n",
    "# Module Temperatures\n",
    "plt.subplot(3, 1, 2)\n",
    "plt.plot(daily_data['Timestamp'], daily_data['ModA'], label='Module A (W/m²)', color='orange')\n",
    "plt.plot(daily_data['Timestamp'], daily_data['ModB'], label='Module B (W/m²)', color='green')\n",
    "plt.title('Daily Average Module Measurements')\n",
    "plt.ylabel('Measurement (W/m²)')\n",
    "plt.grid(True)\n",
    "plt.legend()\n",
    "\n",
    "# Ambient Temperature\n",
    "plt.subplot(3, 1, 3)\n",
    "plt.plot(daily_data['Timestamp'], daily_data['Tamb'], label='Ambient Temperature', color='red')\n",
    "plt.title('Daily Average Ambient Temperature')\n",
    "plt.ylabel('Temperature (°C)')\n",
    "plt.grid(True)\n",
    "\n",
    "plt.tight_layout()\n",
    "plt.show()"
   ]
  },
  {
   "cell_type": "markdown",
   "metadata": {},
   "source": [
    "## 4. Monthly and Hourly Patterns"
   ]
  },
  {
   "cell_type": "code",
   "execution_count": null,
   "metadata": {},
   "outputs": [],
   "source": [
    "# Add month and hour columns for additional analysis\n",
    "df_clean['Month'] = df_clean['Timestamp'].dt.month\n",
    "df_clean['Hour'] = df_clean['Timestamp'].dt.hour\n",
    "\n",
    "# Calculate monthly averages\n",
    "monthly_data = df_clean.groupby('Month')[['GHI', 'DNI', 'DHI', 'Tamb', 'RH', 'WS']].mean().reset_index()\n",
    "\n",
    "# Plot monthly averages\n",
    "plt.figure(figsize=(14, 8))"
   ]
  },
  {
   "cell_type": "code",
   "execution_count": null,
   "metadata": {},
   "outputs": [],
   "source": [
    "# Plot solar radiation variables\n",
    "plt.subplot(2, 1, 1)\n",
    "plt.plot(monthly_data['Month'], monthly_data['GHI'], 'o-', label='GHI')\n",
    "plt.plot(monthly_data['Month'], monthly_data['DNI'], 'o-', label='DNI')\n",
    "plt.plot(monthly_data['Month'], monthly_data['DHI'], 'o-', label='DHI')\n",
    "plt.title('Monthly Average Solar Radiation')\n",
    "plt.ylabel('Radiation (W/m²)')\n",
    "plt.grid(True)\n",
    "plt.legend()\n",
    "\n",
    "# Plot temperature and humidity\n",
    "ax1 = plt.subplot(2, 1, 2)\n",
    "line1 = ax1.plot(monthly_data['Month'], monthly_data['Tamb'], 'ro-', label='Temperature')\n",
    "ax1.set_ylabel('Temperature (°C)', color='red')\n",
    "ax1.tick_params(axis='y', labelcolor='red')\n",
    "\n",
    "ax2 = ax1.twinx()\n",
    "line2 = ax2.plot(monthly_data['Month'], monthly_data['RH'], 'bo-', label='Humidity')\n",
    "ax2.set_ylabel('Relative Humidity (%)', color='blue')\n",
    "ax2.tick_params(axis='y', labelcolor='blue')\n",
    "ax1.set_xticks(range(1, 13))\n",
    "ax1.set_xticklabels(['Jan', 'Feb', 'Mar', 'Apr', 'May', 'Jun', 'Jul', 'Aug', 'Sep', 'Oct', 'Nov', 'Dec'])"
   ]
  },
  {
   "cell_type": "code",
   "execution_count": null,
   "metadata": {},
   "outputs": [],
   "source": [
    "# Add both legends\n",
    "lines1, labels1 = ax1.get_legend_handles_labels()\n",
    "lines2, labels2 = ax2.get_legend_handles_labels()\n",
    "ax1.legend(lines1 + lines2, labels1 + labels2, loc='upper center')\n",
    "\n",
    "plt.title('Monthly Average Temperature and Humidity')\n",
    "plt.grid(True)\n",
    "plt.tight_layout()\n",
    "plt.show()\n",
    "\n",
    "# Hourly patterns\n",
    "hourly_data = df_clean.groupby('Hour')[['GHI', 'DNI', 'DHI', 'Tamb', 'RH', 'WS']].mean().reset_index()\n",
    "\n",
    "plt.figure(figsize=(12, 6))\n",
    "plt.plot(hourly_data['Hour'], hourly_data['GHI'], 'o-', label='GHI')\n",
    "plt.plot(hourly_data['Hour'], hourly_data['DNI'], 'o-', label='DNI')\n",
    "plt.plot(hourly_data['Hour'], hourly_data['DHI'], 'o-', label='DHI')\n",
    "plt.title('Hourly Average Solar Radiation')\n",
    "plt.ylabel('Radiation (W/m²)')\n",
    "plt.xticks(range(0, 24, 2))\n",
    "plt.legend()\n",
    "plt.grid(True)"
   ]
  },
  {
   "cell_type": "markdown",
   "metadata": {},
   "source": [
    "## 5. Correlation Analysis"
   ]
  },
  {
   "cell_type": "code",
   "execution_count": null,
   "metadata": {},
   "outputs": [],
   "source": [
    "# Select relevant columns for correlation analysis\n",
    "corr_columns = ['GHI', 'DNI', 'DHI', 'ModA', 'ModB', 'Tamb', 'RH', 'WS', 'BP']\n",
    "corr_matrix = df_clean[corr_columns].corr()\n",
    "\n",
    "# Plot correlation heatmap\n",
    "plt.figure(figsize=(12, 10))\n",
    "sns.heatmap(corr_matrix, annot=True, cmap='coolwarm', vmin=-1, vmax=1, linewidths=0.5, fmt='.2f')\n",
    "plt.title('Correlation Matrix')\n",
    "plt.tight_layout()\n",
    "plt.show()"
   ]
  },
  {
   "cell_type": "markdown",
   "metadata": {},
   "source": [
    "## 6. Scatter Plot Analysis"
   ]
  },
  {
   "cell_type": "code",
   "execution_count": null,
   "metadata": {},
   "outputs": [],
   "source": [
    "# GHI vs Temperature\n",
    "plt.figure(figsize=(10, 6))\n",
    "plt.scatter(df_clean['Tamb'], df_clean['GHI'], alpha=0.5)\n",
    "plt.xlabel('Ambient Temperature (°C)')\n",
    "plt.ylabel('GHI (W/m²)')\n",
    "plt.title('GHI vs Ambient Temperature')\n",
    "plt.grid(True)\n",
    "plt.tight_layout()\n",
    "plt.show()\n",
    "\n",
    "# ModA vs GHI\n",
    "plt.figure(figsize=(10, 6))\n",
    "plt.scatter(df_clean['GHI'], df_clean['ModA'], alpha=0.5, color='orange')\n",
    "plt.xlabel('GHI (W/m²)')\n",
    "plt.ylabel('Module A (W/m²)')\n",
    "plt.title('Module A vs GHI')\n",
    "plt.grid(True)\n",
    "plt.tight_layout()\n",
    "plt.show()"
   ]
  },
  {
   "cell_type": "markdown",
   "metadata": {},
   "source": [
    "## 7. Wind Analysis and Distribution"
   ]
  },
  {
   "cell_type": "code",
   "execution_count": null,
   "metadata": {},
   "outputs": [],
   "source": [
    "# 7.1 Wind direction analysis\n",
    "# First, round wind direction to the nearest 10 degrees\n",
    "df_clean['WD_rounded'] = (df_clean['WD'] / 10).round() * 10\n",
    "\n",
    "# Calculate average wind speed for each direction\n",
    "wind_rose_data = df_clean.groupby('WD_rounded')['WS'].mean().reset_index()\n",
    "\n",
    "# Create wind rose plot\n",
    "plt.figure(figsize=(10, 10), facecolor='white')\n",
    "ax = plt.subplot(111, polar=True)\n",
    "theta = np.radians(wind_rose_data['WD_rounded'])\n",
    "radii = wind_rose_data['WS']\n",
    "bars = ax.bar(theta, radii, width=0.2, bottom=0, alpha=0.5)\n",
    "\n",
    "# Set the direction labels\n",
    "ax.set_theta_zero_location('N')\n",
    "ax.set_theta_direction(-1)  # Clockwise\n",
    "ax.set_rlabel_position(0)\n",
    "ax.set_title('Wind Rose: Average Wind Speed by Direction')\n",
    "plt.tight_layout()\n",
    "plt.show()\n",
    "\n",
    "# 7.2 Histograms\n",
    "# GHI histogram\n",
    "plot_histogram(df_clean, 'GHI', bins=50, title='Distribution of Global Horizontal Irradiance')\n",
    "plt.show()\n",
    "\n",
    "# Wind Speed histogram\n",
    "plot_histogram(df_clean, 'WS', bins=30, title='Distribution of Wind Speed')\n",
    "plt.show()"
   ]
  },
  {
   "cell_type": "markdown",
   "metadata": {},
   "source": [
    "## 8. Environmental Relationships"
   ]
  },
  {
   "cell_type": "code",
   "execution_count": null,
   "metadata": {},
   "outputs": [],
   "source": [
    "# Examine relationship between RH, temperature and GHI\n",
    "fig, ax = plt.subplots(figsize=(10, 6))\n",
    "scatter = ax.scatter(df_clean['Tamb'], df_clean['GHI'], c=df_clean['RH'], \n",
    "                    cmap='viridis', alpha=0.5, s=20)\n",
    "plt.colorbar(scatter, label='Relative Humidity (%)')\n",
    "plt.xlabel('Ambient Temperature (°C)')\n",
    "plt.ylabel('GHI (W/m²)')\n",
    "plt.title('Relationship between Temperature, GHI, and Humidity')\n",
    "plt.grid(True)\n",
    "plt.tight_layout()\n",
    "plt.show()\n",
    "\n",
    "# 8.1 Additional temperature analysis: TModA, TModB vs Tamb\n",
    "plt.figure(figsize=(12, 6))\n",
    "plt.scatter(df_clean['Tamb'], df_clean['TModA'], alpha=0.5, label='Module A')\n",
    "plt.scatter(df_clean['Tamb'], df_clean['TModB'], alpha=0.5, label='Module B')\n",
    "plt.xlabel('Ambient Temperature (°C)')\n",
    "plt.ylabel('Module Temperature (°C)')\n",
    "plt.title('Module Temperatures vs Ambient Temperature')\n",
    "plt.legend()\n",
    "plt.grid(True)\n",
    "plt.tight_layout()\n",
    "plt.show()"
   ]
  },
  {
   "cell_type": "markdown",
   "metadata": {},
   "source": [
    "## 9. Advanced Visualizations"
   ]
  },
  {
   "cell_type": "code",
   "execution_count": null,
   "metadata": {},
   "outputs": [],
   "source": [
    "# Bubble chart with GHI vs Tamb with RH as bubble size\n",
    "plot_bubble_chart(df_clean, 'Tamb', 'GHI', 'RH', 'GHI vs Temperature with Humidity as Bubble Size')\n",
    "plt.tight_layout()\n",
    "plt.show()\n",
    "\n",
    "# Alternative bubble chart with GHI vs Tamb with BP as bubble size\n",
    "plot_bubble_chart(df_clean, 'Tamb', 'GHI', 'BP', 'GHI vs Temperature with Barometric Pressure as Bubble Size')\n",
    "plt.tight_layout()\n",
    "plt.show()"
   ]
  },
  {
   "cell_type": "markdown",
   "metadata": {},
   "source": [
    "## 10. Summary of Findings"
   ]
  },
  {
   "cell_type": "code",
   "execution_count": null,
   "metadata": {},
   "outputs": [],
   "source": [
    "print(\"\\n=== Summary of Findings for Sierra Leone Solar Data Analysis ===\")\n",
    "print(f\"Total observations: {df.shape[0]}\")\n",
    "print(f\"Date range: {df['Timestamp'].min().date()} to {df['Timestamp'].max().date()}\")\n",
    "print(f\"Average GHI: {df_clean['GHI'].mean():.2f} W/m²\")\n",
    "print(f\"Average DNI: {df_clean['DNI'].mean():.2f} W/m²\")\n",
    "print(f\"Average DHI: {df_clean['DHI'].mean():.2f} W/m²\")\n",
    "print(f\"Average ambient temperature: {df_clean['Tamb'].mean():.2f} °C\")\n",
    "print(f\"Average relative humidity: {df_clean['RH'].mean():.2f} %\")\n",
    "print(f\"Average wind speed: {df_clean['WS'].mean():.2f} m/s\")\n",
    "print(\"\\nCleaned data saved to:\", clean_data_path)"
   ]
  }
 ],
 "metadata": {
  "kernelspec": {
   "display_name": "Python 3",
   "language": "python",
   "name": "python3"
  },
  "language_info": {
   "codemirror_mode": {
    "name": "ipython",
    "version": 3
   },
   "file_extension": ".py",
   "mimetype": "text/x-python",
   "name": "python",
   "nbconvert_exporter": "python",
   "pygments_lexer": "ipython3",
   "version": "3.8.10"
  }
 },
 "nbformat": 4,
 "nbformat_minor": 4
}
